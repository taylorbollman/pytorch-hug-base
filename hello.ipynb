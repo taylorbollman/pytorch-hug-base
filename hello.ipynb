{
 "cells": [
  {
   "cell_type": "code",
   "execution_count": 12,
   "metadata": {},
   "outputs": [
    {
     "name": "stdout",
     "output_type": "stream",
     "text": [
      "CITATION.cff\t    README_hd.md\t     conftest.py     scripts\n",
      "CODE_OF_CONDUCT.md  README_ja.md\t     docker\t     setup.cfg\n",
      "CONTRIBUTING.md     README_ko.md\t     docs\t     setup.py\n",
      "ISSUES.md\t    README_pt-br.md\t     examples\t     src\n",
      "LICENSE\t\t    README_ru.md\t     hubconf.py      templates\n",
      "Makefile\t    README_zh-hans.md\t     model_cards     test.txt\n",
      "README.md\t    README_zh-hant.md\t     notebooks\t     tests\n",
      "README_es.md\t    awesome-transformers.md  pyproject.toml  utils\n"
     ]
    }
   ],
   "source": [
    "!ls "
   ]
  }
 ],
 "metadata": {
  "kernelspec": {
   "display_name": "Python 3 (ipykernel)",
   "language": "python",
   "name": "python3"
  },
  "language_info": {
   "codemirror_mode": {
    "name": "ipython",
    "version": 3
   },
   "file_extension": ".py",
   "mimetype": "text/x-python",
   "name": "python",
   "nbconvert_exporter": "python",
   "pygments_lexer": "ipython3",
   "version": "3.9.16"
  }
 },
 "nbformat": 4,
 "nbformat_minor": 2
}
